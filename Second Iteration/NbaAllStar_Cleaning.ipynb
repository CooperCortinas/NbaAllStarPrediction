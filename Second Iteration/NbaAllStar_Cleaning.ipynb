{
 "cells": [
  {
   "cell_type": "code",
   "execution_count": 1,
   "metadata": {},
   "outputs": [],
   "source": [
    "import pandas as pd\n",
    "import numpy as np\n",
    "from sklearn.ensemble import RandomForestClassifier\n",
    "from sklearn.preprocessing import StandardScaler\n",
    "from sklearn.metrics import classification_report, accuracy_score\n",
    "\n",
    "nba_data_2021_2022_advanced = pd.read_csv('2021_22_NBA_Player_Data.csv')\n",
    "nba_data_2021_2022_per_game = pd.read_csv('2021_2022_Per_Game_Data.csv')\n",
    "nba_data_2020_2021_advanced = pd.read_csv('2020_2021_Player_Stats.csv')\n",
    "nba_data_2020_2021_per_game = pd.read_csv('2020_2021_NBA_Per_Game_Stats.csv')"
   ]
  },
  {
   "cell_type": "code",
   "execution_count": 2,
   "metadata": {},
   "outputs": [
    {
     "name": "stdout",
     "output_type": "stream",
     "text": [
      "Index(['Player', 'Tm', 'G', 'PER', 'TS%', '3PAr', 'FTr', 'ORB%', 'DRB%',\n",
      "       'TRB%', 'AST%', 'STL%', 'BLK%', 'TOV%', 'USG%', 'OWS', 'DWS', 'WS',\n",
      "       'WS/48', 'OBPM', 'DBPM', 'BPM', 'VORP'],\n",
      "      dtype='object')\n",
      "Index(['Player', 'Tm', 'G', 'PER', 'TS%', '3PAr', 'FTr', 'ORB%', 'DRB%',\n",
      "       'TRB%', 'AST%', 'STL%', 'BLK%', 'TOV%', 'USG%', 'OWS', 'DWS', 'WS',\n",
      "       'WS/48', 'OBPM', 'DBPM', 'BPM', 'VORP'],\n",
      "      dtype='object')\n"
     ]
    }
   ],
   "source": [
    "# Remove the 'MP' columns\n",
    "nba_data_2021_2022_advanced.drop(columns=['MP','Rk', 'Column1', '2', 'GS', 'Pos'], inplace=True, errors='ignore')\n",
    "nba_data_2021_2022_per_game.drop(columns=['MP','Rk', 'Column1', '2', 'G', 'GS', 'Pos'], inplace=True, errors='ignore')\n",
    "nba_data_2020_2021_advanced.drop(columns=['MP','Rk', 'Column1', '2', 'GS', 'Pos'], inplace=True, errors='ignore')\n",
    "nba_data_2020_2021_per_game.drop(columns=['MP','Rk', 'Column1', '2', 'G', 'GS', 'Pos'], inplace=True, errors='ignore')\n",
    "\n",
    "print(nba_data_2020_2021_advanced.columns)\n",
    "print(nba_data_2021_2022_advanced.columns)\n",
    "\n",
    "\n",
    "# Combine datasets from the same seasons\n",
    "combined_2021_2022 = pd.merge(nba_data_2021_2022_advanced, nba_data_2021_2022_per_game, on=['Player', 'Tm'])\n",
    "combined_2020_2021 = pd.merge(nba_data_2020_2021_advanced, nba_data_2020_2021_per_game, on=['Player', 'Tm'])\n",
    "\n",
    "# Replace NaN values with 0 in the entire DataFrame\n",
    "combined_2020_2021.fillna(0, inplace=True)\n",
    "combined_2021_2022.fillna(0, inplace=True)\n"
   ]
  },
  {
   "cell_type": "code",
   "execution_count": 3,
   "metadata": {},
   "outputs": [],
   "source": [
    "tot_players_2020_2021 = combined_2020_2021[combined_2020_2021['Tm'] == 'TOT']\n",
    "\n",
    "# For each player with \"TOT\", find the team with which they played the most games\n",
    "for player in tot_players_2020_2021['Player'].unique():\n",
    "    # Extract rows for this player\n",
    "    player_rows = combined_2020_2021[combined_2020_2021['Player'] == player]\n",
    "    \n",
    "    # Exclude the \"TOT\" row\n",
    "    player_rows = player_rows[player_rows['Tm'] != 'TOT']\n",
    "    \n",
    "    # Find the team with the most games\n",
    "    if not player_rows.empty:\n",
    "        max_games_team = player_rows.loc[player_rows['G'].idxmax()]['Tm']\n",
    "\n",
    "        # Update the 'Tm' value in the original dataframe\n",
    "        combined_2020_2021.loc[(combined_2020_2021['Player'] == player) & (combined_2020_2021['Tm'] == 'TOT'), 'Tm'] = max_games_team\n",
    "\n",
    "# Removing duplicate players, keeping the row with the updated team\n",
    "combined_2020_2021_cleaned = combined_2020_2021.drop_duplicates(subset=['Player'], keep='first')\n",
    "\n",
    "tot_players_2021_2022 = combined_2021_2022[combined_2021_2022['Tm'] == 'TOT']\n",
    "\n",
    "# For each player with \"TOT\", find the team with which they played the most games\n",
    "for player in tot_players_2021_2022['Player'].unique():\n",
    "    # Extract rows for this player\n",
    "    player_rows = combined_2021_2022[combined_2021_2022['Player'] == player]\n",
    "    \n",
    "    # Exclude the \"TOT\" row\n",
    "    player_rows = player_rows[player_rows['Tm'] != 'TOT']\n",
    "    \n",
    "    # Find the team with the most games\n",
    "    if not player_rows.empty:\n",
    "        max_games_team = player_rows.loc[player_rows['G'].idxmax()]['Tm']\n",
    "\n",
    "        # Update the 'Tm' value in the original dataframe\n",
    "        combined_2021_2022.loc[(combined_2021_2022['Player'] == player) & (combined_2021_2022['Tm'] == 'TOT'), 'Tm'] = max_games_team\n",
    "\n",
    "# Removing duplicate players, keeping the row with the updated team\n",
    "combined_2021_2022_cleaned = combined_2021_2022.drop_duplicates(subset=['Player'], keep='first')"
   ]
  },
  {
   "cell_type": "code",
   "execution_count": 4,
   "metadata": {},
   "outputs": [],
   "source": [
    "combined_2020_2021_cleaned.to_csv('combined_2020_2021.csv', index=False)\n",
    "combined_2021_2022_cleaned.to_csv('combined_2021_2022.csv', index=False)"
   ]
  }
 ],
 "metadata": {
  "kernelspec": {
   "display_name": "Python 3",
   "language": "python",
   "name": "python3"
  },
  "language_info": {
   "codemirror_mode": {
    "name": "ipython",
    "version": 3
   },
   "file_extension": ".py",
   "mimetype": "text/x-python",
   "name": "python",
   "nbconvert_exporter": "python",
   "pygments_lexer": "ipython3",
   "version": "3.10.11"
  }
 },
 "nbformat": 4,
 "nbformat_minor": 2
}
